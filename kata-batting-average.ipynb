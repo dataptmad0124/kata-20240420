{
 "cells": [
  {
   "cell_type": "markdown",
   "id": "a447b8b5-f16b-451f-b45c-47746f721e1e",
   "metadata": {},
   "source": [
    "# Kata:"
   ]
  },
  {
   "cell_type": "markdown",
   "id": "c7379b61-1f04-4fa2-8865-bf3e2c83b39e",
   "metadata": {},
   "source": [
    "https://www.codewars.com/kata/5994dafcbddc2f116d000024/train/sql"
   ]
  },
  {
   "cell_type": "markdown",
   "id": "5e2a4659-1d95-44fb-b92c-4646b4da4e6f",
   "metadata": {},
   "source": [
    "## Your name or team members:"
   ]
  },
  {
   "cell_type": "markdown",
   "id": "a3cb9fa4",
   "metadata": {},
   "source": [
    "Elena Arenal"
   ]
  },
  {
   "cell_type": "markdown",
   "id": "f04997cc-966d-4e06-8eb0-64ab376728f8",
   "metadata": {},
   "source": [
    "## Use the following cells to test your solution:"
   ]
  },
  {
   "cell_type": "code",
   "execution_count": null,
   "id": "4202edc5-f719-4068-96bd-55703a8a6c27",
   "metadata": {},
   "outputs": [],
   "source": [
    "'''Given a yankees table with the following schema,\n",
    "\n",
    "-player_id STRING\n",
    "\n",
    "-player_name STRING\n",
    "\n",
    "-primary_position STRING\n",
    "\n",
    "-games INTEGER\n",
    "\n",
    "-at_bats INTEGER\n",
    "\n",
    "-hits INTEGER\n",
    "\n",
    "return a table with player_name, games, and batting_average=HITS/AT BATS\n",
    "'''"
   ]
  },
  {
   "cell_type": "code",
   "execution_count": null,
   "id": "1c1f6098-25a1-4805-a249-b833ca4a66a0",
   "metadata": {},
   "outputs": [],
   "source": [
    "/* Your Query Here */\n",
    "\n",
    "/*SELECT \n",
    "player_name,\n",
    "games ,\n",
    "CAST(hits as numeric))/cast(at_bats as float) as batting_average;\n",
    "FROM yankees \n",
    " */\n",
    "SELECT\n",
    "  player_name,\n",
    "  games,\n",
    "(CAST(hits AS numeric) / at_bats,3) AS batting_average \n",
    "FROM \n",
    "  yankees\n",
    "WHERE\n",
    "  at_bats >= 100\n",
    "ORDER BY\n",
    "  batting_average DESC;"
   ]
  },
  {
   "cell_type": "markdown",
   "id": "5e5948ae-bfb0-4aa7-8cc0-83970accb44a",
   "metadata": {},
   "source": [
    "## Copy your submited solution here:"
   ]
  },
  {
   "cell_type": "code",
   "execution_count": null,
   "id": "de8f88a1-897b-4b92-8c9f-e04d16cec21a",
   "metadata": {},
   "outputs": [],
   "source": [
    "\n",
    "SELECT\n",
    "  player_name,\n",
    "  games,\n",
    "CAST(ROUND(CAST(hits AS numeric) / at_bats  ,3)AS TEXT)AS batting_average \n",
    "FROM \n",
    "  yankees\n",
    "WHERE\n",
    "  at_bats >= 100\n",
    "ORDER BY\n",
    "  batting_average DESC;"
   ]
  }
 ],
 "metadata": {
  "kernelspec": {
   "display_name": "Python 3 (ipykernel)",
   "language": "python",
   "name": "python3"
  },
  "language_info": {
   "codemirror_mode": {
    "name": "ipython",
    "version": 3
   },
   "file_extension": ".py",
   "mimetype": "text/x-python",
   "name": "python",
   "nbconvert_exporter": "python",
   "pygments_lexer": "ipython3",
   "version": "3.11.5"
  }
 },
 "nbformat": 4,
 "nbformat_minor": 5
}
